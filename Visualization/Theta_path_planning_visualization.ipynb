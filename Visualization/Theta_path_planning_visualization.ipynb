{
  "nbformat": 4,
  "nbformat_minor": 0,
  "metadata": {
    "colab": {
      "name": "Theta_path_planning_visualization.ipynb",
      "provenance": [],
      "collapsed_sections": []
    },
    "kernelspec": {
      "name": "python3",
      "display_name": "Python 3"
    },
    "language_info": {
      "name": "python"
    }
  },
  "cells": [
    {
      "cell_type": "code",
      "execution_count": 17,
      "metadata": {
        "id": "x2bRWHAWq1Kb"
      },
      "outputs": [],
      "source": [
        "import matplotlib.pyplot as plt\n",
        "import numpy as np"
      ]
    },
    {
      "cell_type": "markdown",
      "source": [
        "Формат карты - heigth и width через пробел в певрой строке, в следующей строке матрица heigth * width из 0 и 1\n",
        "Например \\\\\n",
        "2 3 \\\\\n",
        "1 0 1 \\\\\n",
        "0 0 0 \\\\"
      ],
      "metadata": {
        "id": "6HdLbhk7yvoy"
      }
    },
    {
      "cell_type": "markdown",
      "source": [
        "Формат входных данных для вывода соседей\n",
        "((root_x, root_y), ((interval_left, interval_right), interval_row)) - текущий search_node\n",
        "в каждой следующей строке записан сосед current node в формате ((root_x, root_y), ((interval_left, interval_right), interval_row))\n",
        "Например \\\\\n",
        "(1,2),((1,3),2) - current node \\\\\n",
        "(3,2),((3,5),2) \\\\\n",
        "(3,2),((3,4.55),3)"
      ],
      "metadata": {
        "id": "aQ-kq2-Ox9Ae"
      }
    },
    {
      "cell_type": "code",
      "source": [
        "def generate_cell_from_coords(x, y):\n",
        "  return [[x, x + 1, x + 1, x], [y, y, y + 1, y + 1]]"
      ],
      "metadata": {
        "id": "2Dc-5U-zzcRX"
      },
      "execution_count": 18,
      "outputs": []
    },
    {
      "cell_type": "code",
      "source": [
        "map_file = open(\"map.txt\", \"r\")"
      ],
      "metadata": {
        "id": "PLWK-Ha908q_"
      },
      "execution_count": 19,
      "outputs": []
    },
    {
      "cell_type": "code",
      "source": [
        "class Node:\n",
        "  def __init__(self, x, y) -> None:\n",
        "      self.x = x\n",
        "      self.y = y\n",
        "  \n",
        "  def __str__(self) -> str:\n",
        "      return 'Node(x=' + str(self.x) + ', y=' + str(self.y) + ')'"
      ],
      "metadata": {
        "id": "8q9sN5YSIE_F"
      },
      "execution_count": 20,
      "outputs": []
    },
    {
      "cell_type": "code",
      "source": [
        "def read_node(line):\n",
        "  x, y = map(int, line.split())\n",
        "  return Node(x, y)\n"
      ],
      "metadata": {
        "id": "EiCXcj2aMAUh"
      },
      "execution_count": 21,
      "outputs": []
    },
    {
      "cell_type": "code",
      "source": [
        "obstacle_cells = []\n",
        "expanded_obstacle_cells = []\n",
        "\n",
        "# считываем все строки\n",
        "lines = map_file.readlines()\n",
        "map_height, map_width = map(int, lines[0].split())\n",
        "for i in range(1, map_height + 1):\n",
        "  values = list(map(int, lines[i].split()))\n",
        "  for j in range(len(values)):\n",
        "    if values[j] == 1:\n",
        "      obstacle_cells.append(generate_cell_from_coords(j, i - 1))\n",
        "    elif values[j] == 2:\n",
        "      expanded_obstacle_cells.append(generate_cell_from_coords(j, i - 1))\n",
        "\n",
        "path_nodes_number = int(lines[map_height + 1])\n",
        "X = []\n",
        "Y = []\n",
        "for i in range (map_height + 2, len(lines)):\n",
        "  x, y = map(int, lines[i].split())\n",
        "  X.append(x + 0.5)\n",
        "  Y.append(y + 0.5)"
      ],
      "metadata": {
        "id": "e3-pMKr60KLf"
      },
      "execution_count": 22,
      "outputs": []
    },
    {
      "cell_type": "code",
      "source": [
        "major_y_ticks = np.arange(0, map_height, 1)\n",
        "major_x_ticks = np.arange(0, map_width, 1)\n",
        "plt.annotate(\"start\", (X[0], Y[0]), (X[0] - 1, Y[0] + 2.5), fontsize=16, backgroundcolor=\"w\")\n",
        "plt.annotate(\"finish\", (X[-1], Y[-1]), (X[-1] - 1.7, Y[-1] - 1.5), fontsize=16, backgroundcolor=\"w\")\n",
        "plt.rc('grid', linestyle=\"-\", color='lightgray')\n",
        "plt.rcParams['figure.figsize'] = [10, 10]\n",
        "plt.grid(True)\n",
        "plt.xticks(major_x_ticks, labels=[])\n",
        "plt.yticks(major_y_ticks, labels=[])\n",
        "plt.xlim(0, map_width)\n",
        "plt.ylim(0, map_height)\n",
        "for cell in obstacle_cells:\n",
        "  plt.fill(cell[0], cell[1], 'black')\n",
        "for cell in expanded_obstacle_cells:\n",
        "  plt.fill(cell[0], cell[1], 'grey', alpha=0.5)\n",
        "plt.scatter(X[1:-1], Y[1:-1], marker='o', color='blue')\n",
        "plt.scatter([X[0], X[-1]], [Y[0],Y[-1]], marker='o', color='red')\n",
        "plt.plot(X, Y)\n",
        "\n",
        "plt.gca().invert_yaxis()\n",
        "plt.show()"
      ],
      "metadata": {
        "colab": {
          "base_uri": "https://localhost:8080/",
          "height": 578
        },
        "id": "5UBM9xLzrZaS",
        "outputId": "47508f47-0126-48da-b725-8f3bd8feba1e"
      },
      "execution_count": 23,
      "outputs": [
        {
          "output_type": "display_data",
          "data": {
            "text/plain": [
              "<Figure size 720x720 with 1 Axes>"
            ],
            "image/png": "[encoded data removed]"
          },
          "metadata": {
            "needs_background": "light"
          }
        }
      ]
    },
    {
      "cell_type": "code",
      "source": [
        ""
      ],
      "metadata": {
        "id": "dd0uBLwqAbYg"
      },
      "execution_count": 23,
      "outputs": []
    }
  ]
}